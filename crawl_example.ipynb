{
 "metadata": {
  "language_info": {
   "codemirror_mode": {
    "name": "ipython",
    "version": 3
   },
   "file_extension": ".py",
   "mimetype": "text/x-python",
   "name": "python",
   "nbconvert_exporter": "python",
   "pygments_lexer": "ipython3",
   "version": "3.8.2-final"
  },
  "orig_nbformat": 2,
  "kernelspec": {
   "name": "python38264bit8735a28e694f472787bcd3046a2dfd0b",
   "display_name": "Python 3.8.2 64-bit"
  }
 },
 "nbformat": 4,
 "nbformat_minor": 2,
 "cells": [
  {
   "cell_type": "code",
   "execution_count": null,
   "metadata": {
    "tags": []
   },
   "outputs": [],
   "source": [
    "!pip install selenium"
   ]
  },
  {
   "cell_type": "code",
   "execution_count": null,
   "metadata": {},
   "outputs": [],
   "source": [
    "import re\n",
    "from urllib.parse import unquote\n",
    "\n",
    "from selenium import webdriver\n",
    "from selenium.webdriver.common.desired_capabilities import DesiredCapabilities"
   ]
  },
  {
   "cell_type": "code",
   "execution_count": null,
   "metadata": {
    "tags": []
   },
   "outputs": [],
   "source": [
    "capabilities = DesiredCapabilities.CHROME.copy()\n",
    "\n",
    "browser = webdriver.Remote(\n",
    "    command_executor='http://localhost:4444/wd/hub',\n",
    "    desired_capabilities=capabilities\n",
    ")\n",
    "\n",
    "unique_emails = []\n",
    "urls = [\n",
    "    'https://www.digital-power.com',\n",
    "    'https://digital-power.com/technical-web-analytics',\n",
    "    'https://digital-power.com/data-analytics',\n",
    "    'https://digital-power.com/data-science',\n",
    "    'https://digital-power.com/contact',\n",
    "]\n",
    "\n",
    "try:\n",
    "    for url in urls:\n",
    "        print('crawling url: %s' % url)\n",
    "        \n",
    "        browser.get(url)\n",
    "        emails = re.findall(r\"([a-zA-Z0-9_.+-]+@[a-zA-Z0-9-]+\\.[a-zA-Z0-9-.]+)\", unquote(browser.page_source))\n",
    "\n",
    "        unique_emails += [email for i, email in enumerate(emails) if emails.index(email) == i and email not in unique_emails]\n",
    "\n",
    "    browser.quit()\n",
    "except:\n",
    "    browser.quit()"
   ]
  },
  {
   "cell_type": "code",
   "execution_count": null,
   "metadata": {
    "tags": []
   },
   "outputs": [],
   "source": [
    "for email in unique_emails:\n",
    "    print(f'{email}\\n')"
   ]
  },
  {
   "cell_type": "code",
   "execution_count": null,
   "metadata": {},
   "outputs": [],
   "source": []
  }
 ]
}